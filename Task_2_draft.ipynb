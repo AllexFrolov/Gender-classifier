{
 "cells": [
  {
   "cell_type": "code",
   "execution_count": null,
   "metadata": {
    "collapsed": true
   },
   "outputs": [],
   "source": [
    "# for training in google colaboratory\n",
    "from os import path\n",
    "import sys\n",
    "if 'google' in sys.modules:\n",
    "    from google.colab import drive\n",
    "    drive.mount('/content/drive')\n",
    "    # create directory\n",
    "    !mkdir Data\n",
    "    if not path.exists('Data/internship_data'):\n",
    "        # copy gzip file from google.disk\n",
    "        !cp drive/My\\ Drive/Colab/NtechLab/internship_data.tar.gz Data\n",
    "        # unzip file\n",
    "        !tar -xf Data/internship_data.tar.gz -C Data\n",
    "        # delete gzip file\n",
    "        !rm Data/internship_data.tar.gz"
   ]
  },
  {
   "cell_type": "code",
   "execution_count": null,
   "outputs": [],
   "source": [
    "from model import AFModel\n",
    "from train_functions import train, accuracy\n",
    "from data_functions import train_test_split, MyDataLoader"
   ],
   "metadata": {
    "collapsed": false,
    "pycharm": {
     "name": "#%%\n"
    }
   }
  },
  {
   "cell_type": "code",
   "execution_count": null,
   "outputs": [],
   "source": [
    "import numpy as np\n",
    "import torch\n",
    "import torch.nn as nn\n",
    "from torchvision.datasets import ImageFolder\n",
    "\n",
    "import albumentations as A\n",
    "\n",
    "DEVICE = torch.device('cuda' if torch.cuda.is_available() else 'cpu')"
   ],
   "metadata": {
    "collapsed": false,
    "pycharm": {
     "name": "#%%\n"
    }
   }
  },
  {
   "cell_type": "code",
   "execution_count": null,
   "outputs": [],
   "source": [
    "# load data\n",
    "dataset = ImageFolder('Data/internship_data')"
   ],
   "metadata": {
    "collapsed": false,
    "pycharm": {
     "name": "#%%\n"
    }
   }
  },
  {
   "cell_type": "code",
   "execution_count": null,
   "outputs": [],
   "source": [
    "# split data indices to train, val and test\n",
    "train_val_indices, test_indices = train_test_split(np.arange(len(dataset)),\n",
    "                                                   train_size=0.75)\n",
    "\n",
    "train_indices, val_indices = train_test_split(train_val_indices,\n",
    "                                              train_size=0.75)"
   ],
   "metadata": {
    "collapsed": false,
    "pycharm": {
     "name": "#%%\n"
    }
   }
  },
  {
   "cell_type": "code",
   "execution_count": null,
   "outputs": [],
   "source": [
    "# get classes_count\n",
    "output_dim = len(dataset.classes)\n",
    "# create model\n",
    "afmodel = AFModel()\n",
    "afmodel.create_model(None, 3, output_dim)\n",
    "afmodel = afmodel.to(DEVICE)\n",
    "# saving classes name in model\n",
    "afmodel.save_labels(dataset.classes)"
   ],
   "metadata": {
    "collapsed": false,
    "pycharm": {
     "name": "#%%\n"
    }
   }
  },
  {
   "cell_type": "code",
   "execution_count": null,
   "outputs": [],
   "source": [
    "# data parameters\n",
    "IM_SIZE = (224, 224)\n",
    "batch_size = 256\n",
    "NORMALIZE = ([0.485, 0.456, 0.406],\n",
    "             [0.229, 0.224, 0.225])\n",
    "\n",
    "# Create augmentations for train data\n",
    "transformer = A.Compose([\n",
    "        A.Resize(*IM_SIZE),\n",
    "        A.HorizontalFlip(p=0.5),\n",
    "        A.OneOf([\n",
    "            A.IAAAdditiveGaussianNoise(),\n",
    "            A.GaussNoise(),\n",
    "        ], p=0.2),\n",
    "        A.OneOf([\n",
    "            A.MotionBlur(p=.2),\n",
    "            A.MedianBlur(blur_limit=3, p=0.1),\n",
    "            A.Blur(blur_limit=3, p=0.1),\n",
    "        ], p=0.2),\n",
    "        A.ShiftScaleRotate(shift_limit=0.0625, scale_limit=0.2, rotate_limit=45, p=0.2),\n",
    "        A.HueSaturationValue(p=0.3),\n",
    "        A.Normalize(*NORMALIZE),\n",
    "    ])\n",
    "\n",
    "# moved axis for PyTorch\n",
    "train_transformer = lambda x: np.moveaxis(transformer(image=x)['image'], -1, 0)\n",
    "\n",
    "# Create augmentations for val and test data\n",
    "transformer_test = A.Compose([A.Resize(*IM_SIZE),\n",
    "                              A.Normalize(*NORMALIZE)\n",
    "                            ])\n",
    "\n",
    "val_transformer = lambda x: np.moveaxis(transformer_test(image=x)['image'], -1, 0)\n",
    "# Create data loaders\n",
    "train_loader = MyDataLoader(dataset, batch_size, train_indices,\n",
    "                            True, train_transformer)\n",
    "val_loader = MyDataLoader(dataset, batch_size, val_indices, False, val_transformer)\n",
    "test_loader = MyDataLoader(dataset, batch_size, test_indices, False, val_transformer)"
   ],
   "metadata": {
    "collapsed": false,
    "pycharm": {
     "name": "#%%\n"
    }
   }
  },
  {
   "cell_type": "code",
   "execution_count": null,
   "outputs": [],
   "source": [
    "# optimizer parameters\n",
    "lr = 1e-2\n",
    "WEIGHT_DECAY = 1e-5\n",
    "optimizer = torch.optim.Adam(afmodel.parameters(),\n",
    "                             lr=lr,\n",
    "                             weight_decay=WEIGHT_DECAY)\n",
    "# scheduler parameter\n",
    "FACTOR = 0.3\n",
    "THRESHOLD = 0.01\n",
    "PATIENCE = 1\n",
    "\n",
    "loss_func = nn.CrossEntropyLoss().to(DEVICE)\n",
    "scheduler = torch.optim.lr_scheduler.ReduceLROnPlateau(\n",
    "    optimizer, 'max', FACTOR, PATIENCE, True, THRESHOLD\n",
    ")"
   ],
   "metadata": {
    "collapsed": false,
    "pycharm": {
     "name": "#%%\n"
    }
   }
  },
  {
   "cell_type": "code",
   "execution_count": null,
   "outputs": [],
   "source": [
    "%%time\n",
    "epoch_count=15\n",
    "history, best_param = \\\n",
    "        train(afmodel, train_loader, loss_func, optimizer, epoch_count,\n",
    "              accuracy, val_loader, scheduler)"
   ],
   "metadata": {
    "collapsed": false,
    "pycharm": {
     "name": "#%%\n"
    }
   }
  },
  {
   "cell_type": "code",
   "execution_count": null,
   "outputs": [],
   "source": [
    "# Set the best model state\n",
    "afmodel.load_state_dict(best_param)\n",
    "# save model\n",
    "afmodel.save_model()\n"
   ],
   "metadata": {
    "collapsed": false,
    "pycharm": {
     "name": "#%%\n"
    }
   }
  }
 ],
 "metadata": {
  "kernelspec": {
   "display_name": "Python 3",
   "language": "python",
   "name": "python3"
  },
  "language_info": {
   "codemirror_mode": {
    "name": "ipython",
    "version": 2
   },
   "file_extension": ".py",
   "mimetype": "text/x-python",
   "name": "python",
   "nbconvert_exporter": "python",
   "pygments_lexer": "ipython2",
   "version": "2.7.6"
  }
 },
 "nbformat": 4,
 "nbformat_minor": 0
}