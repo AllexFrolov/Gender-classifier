{
 "cells": [
  {
   "cell_type": "code",
   "execution_count": null,
   "metadata": {
    "collapsed": true
   },
   "outputs": [],
   "source": [
    "# for training in google colaboratory\n",
    "from os import path\n",
    "import sys\n",
    "if 'google' in sys.modules:\n",
    "    from google.colab import drive\n",
    "    drive.mount('/content/drive')\n",
    "    !mkdir Data\n",
    "    if not path.exists('Data/internship_data'):\n",
    "        !cp drive/My\\ Drive/Colab/NtechLab/internship_data.tar.gz Data\n",
    "        !tar -xf Data/internship_data.tar.gz -C Data\n",
    "        !rm Data/internship_data.tar.gz"
   ]
  },
  {
   "cell_type": "code",
   "execution_count": null,
   "outputs": [],
   "source": [
    "# -------- for debugging ----------\n",
    "import train_functions\n",
    "import data_functions\n",
    "from importlib import reload\n",
    "train_functions = reload(train_functions)\n",
    "data_functions = reload(data_functions)\n",
    "# --------------------------------\n",
    "from train_functions import train, accuracy\n",
    "from data_functions import train_test_split"
   ],
   "metadata": {
    "collapsed": false,
    "pycharm": {
     "name": "#%%\n"
    }
   }
  },
  {
   "cell_type": "code",
   "execution_count": null,
   "outputs": [],
   "source": [
    "import numpy as np\n",
    "import torch\n",
    "import torch.nn as nn\n",
    "from torch.utils.data import DataLoader\n",
    "from torchvision import transforms\n",
    "from torchvision.datasets import ImageFolder\n",
    "DEVICE = torch.device('cuda' if torch.cuda.is_available() else 'cpu')"
   ],
   "metadata": {
    "collapsed": false,
    "pycharm": {
     "name": "#%%\n"
    }
   }
  },
  {
   "cell_type": "code",
   "execution_count": null,
   "outputs": [],
   "source": [
    "dataset = ImageFolder('Data/internship_data')"
   ],
   "metadata": {
    "collapsed": false,
    "pycharm": {
     "name": "#%%\n"
    }
   }
  },
  {
   "cell_type": "code",
   "execution_count": null,
   "outputs": [],
   "source": [
    "class MyDataLoader:\n",
    "    def __init__(self, data, indices: list, batch_size: int, transformer=None, shuffle=False):\n",
    "        assert type(shuffle) is bool, \\\n",
    "            f'shuffle should be bool type, not {type(shuffle)}'\n",
    "        assert type(batch_size) is int, \\\n",
    "            f'batch_size should be type int, not {type(batch_size)}'\n",
    "\n",
    "        self.shuffle = shuffle\n",
    "        self.batch_size = batch_size\n",
    "        self.indices = indices\n",
    "        self.data = data\n",
    "        self.data_len = len(indices)\n",
    "        self.len_ = int(np.ceil(self.data_len / batch_size))\n",
    "\n",
    "        self.transformer = transformer\n",
    "        if transformer is None:\n",
    "            self.transformer = transforms.ToTensor()\n",
    "\n",
    "    def __len__(self):\n",
    "        return self.len_\n",
    "\n",
    "    def __getitem__(self, index):\n",
    "        start_index = index * self.batch_size\n",
    "        end_index = min(self.data_len, start_index + self.batch_size)\n",
    "        batch_indices = self.indices[start_index: end_index]\n",
    "        X_batch = []\n",
    "        y_batch = []\n",
    "        for batch_index in batch_indices:\n",
    "            X, y = self.data[batch_index]\n",
    "            X = self.transformer(X)\n",
    "            X_batch.append(X)\n",
    "            y_batch.append(y)\n",
    "        if len(X_batch) > 1:\n",
    "            X_batch = torch.stack(X_batch)\n",
    "        else:\n",
    "            X_batch = torch.unsqueeze(X_batch[0], 0)\n",
    "        return X_batch, torch.Tensor(y_batch)\n",
    "\n",
    "    def __next__(self):\n",
    "        if self.shuffle:\n",
    "            np.random.shuffle(self.indices)\n",
    "        for n_batch in range(self.len_):\n",
    "            return self.__getitem__(n_batch)"
   ],
   "metadata": {
    "collapsed": false,
    "pycharm": {
     "name": "#%%\n"
    }
   }
  },
  {
   "cell_type": "code",
   "execution_count": null,
   "outputs": [],
   "source": [
    "train_val_indices, test_indices = train_test_split(np.arange(len(dataset)),\n",
    "                                                   train_size=0.75)\n",
    "\n",
    "train_indices, val_indices = train_test_split(train_val_indices,\n",
    "                                              train_size=0.75)\n"
   ],
   "metadata": {
    "collapsed": false,
    "pycharm": {
     "name": "#%%\n"
    }
   }
  }
 ],
 "metadata": {
  "kernelspec": {
   "display_name": "Python 3",
   "language": "python",
   "name": "python3"
  },
  "language_info": {
   "codemirror_mode": {
    "name": "ipython",
    "version": 2
   },
   "file_extension": ".py",
   "mimetype": "text/x-python",
   "name": "python",
   "nbconvert_exporter": "python",
   "pygments_lexer": "ipython2",
   "version": "2.7.6"
  }
 },
 "nbformat": 4,
 "nbformat_minor": 0
}